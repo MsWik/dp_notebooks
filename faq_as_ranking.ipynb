{
 "cells": [
  {
   "cell_type": "code",
   "execution_count": 26,
   "metadata": {},
   "outputs": [],
   "source": [
    "from deeppavlov import build_model, configs\n",
    "from deeppavlov.core.common.file import read_json\n",
    "import pandas as pd"
   ]
  },
  {
   "cell_type": "code",
   "execution_count": 23,
   "metadata": {},
   "outputs": [],
   "source": [
    "config = read_json(configs.ranking.ranking_ubuntu_v2_bert_sep_interact)"
   ]
  },
  {
   "cell_type": "code",
   "execution_count": 35,
   "metadata": {},
   "outputs": [],
   "source": [
    "config['chainer']['pipe'][0]['load_path']=\"/tmp\"\n",
    "config['chainer']['pipe'][0]['save_path']=\"/tmp\""
   ]
  },
  {
   "cell_type": "code",
   "execution_count": 27,
   "metadata": {},
   "outputs": [],
   "source": [
    "faq = pd.read_csv(\"http://files.deeppavlov.ai/faq/school/faq_school_en.csv\")"
   ]
  },
  {
   "cell_type": "code",
   "execution_count": 47,
   "metadata": {},
   "outputs": [],
   "source": [
    "faq['Answer'].to_csv(\"/tmp/responses.csv\", header=False, index=False)"
   ]
  },
  {
   "cell_type": "code",
   "execution_count": 48,
   "metadata": {},
   "outputs": [],
   "source": [
    "faq['Question'].to_csv(\"/tmp/contexts.csv\", header=False, index=False)"
   ]
  },
  {
   "cell_type": "code",
   "execution_count": 51,
   "metadata": {},
   "outputs": [
    {
     "name": "stderr",
     "output_type": "stream",
     "text": [
      "2019-12-04 20:28:10.399 INFO in 'deeppavlov.models.preprocessors.bert_preprocessor'['bert_preprocessor'] at line 306: Building BERT features for the response base...\n",
      "I1204 20:28:10.399302 140108899854144 bert_preprocessor.py:306] Building BERT features for the response base...\n",
      "2019-12-04 20:28:10.429 INFO in 'deeppavlov.models.preprocessors.bert_preprocessor'['bert_preprocessor'] at line 310: Building BERT features for the context base...\n",
      "I1204 20:28:10.429014 140108899854144 bert_preprocessor.py:310] Building BERT features for the context base...\n",
      "2019-12-04 20:28:10.435 WARNING in 'deeppavlov.core.models.serializable'['serializable'] at line 43: Load path '/home/com/.deeppavlov/models/ubuntu_v2_uncased_bert_sep_predictor_model/model' differs from save path '/home/com/.deeppavlov/models/ubuntu_v2_uncased_bert_sep_predictor_model' in 'infer' mode for BertSepRankerPredictor.\n",
      "W1204 20:28:10.435892 140108899854144 serializable.py:43] Load path '/home/com/.deeppavlov/models/ubuntu_v2_uncased_bert_sep_predictor_model/model' differs from save path '/home/com/.deeppavlov/models/ubuntu_v2_uncased_bert_sep_predictor_model' in 'infer' mode for BertSepRankerPredictor.\n",
      "2019-12-04 20:28:24.413 INFO in 'deeppavlov.core.models.tf_model'['tf_model'] at line 52: [loading model from /home/com/.deeppavlov/models/ubuntu_v2_uncased_bert_sep_predictor_model/model]\n",
      "I1204 20:28:24.413031 140108899854144 tf_model.py:52] [loading model from /home/com/.deeppavlov/models/ubuntu_v2_uncased_bert_sep_predictor_model/model]\n",
      "2019-12-04 20:28:25.388 INFO in 'deeppavlov.models.bert.bert_ranker'['bert_ranker'] at line 380: Building BERT vector representations for the response base...\n",
      "I1204 20:28:25.388360 140108899854144 bert_ranker.py:380] Building BERT vector representations for the response base...\n",
      "2019-12-04 20:28:29.820 INFO in 'deeppavlov.models.bert.bert_ranker'['bert_ranker'] at line 388: Building BERT vector representations for the context base...\n",
      "I1204 20:28:29.820471 140108899854144 bert_ranker.py:388] Building BERT vector representations for the context base...\n"
     ]
    }
   ],
   "source": [
    "ranking = build_model(config, download=False)"
   ]
  },
  {
   "cell_type": "code",
   "execution_count": 53,
   "metadata": {},
   "outputs": [
    {
     "data": {
      "text/plain": [
       "[['\"Life and health insurance are obligatory for any foreign citizen arriving in Russia to study. The cost of life and health insurance is 8,200 rubles per year. A student needs to carry the insurance policy specifying the phone number of the insurance company and the emergency health service at all times. All Russian universities have medical offices for first aid and general medical care.\"'],\n",
       " [0.9010574817657471]]"
      ]
     },
     "execution_count": 53,
     "metadata": {},
     "output_type": "execute_result"
    }
   ],
   "source": [
    "ranking([\"what about insurance?\"])"
   ]
  },
  {
   "cell_type": "code",
   "execution_count": 55,
   "metadata": {},
   "outputs": [
    {
     "data": {
      "text/plain": [
       "[['\"The preparatory course is a special educational program lasting one academic year — that is, between seven and 10 months. Students taking this course study Russian, mathematics, and physics. The course ends with an exam, and the passing students receive a certificate of completion.\"'],\n",
       " [0.8985198736190796]]"
      ]
     },
     "execution_count": 55,
     "metadata": {},
     "output_type": "execute_result"
    }
   ],
   "source": [
    "ranking([\"Do you have a preparatory courses?\"])"
   ]
  },
  {
   "cell_type": "code",
   "execution_count": null,
   "metadata": {},
   "outputs": [],
   "source": []
  }
 ],
 "metadata": {
  "kernelspec": {
   "display_name": "Python 3",
   "language": "python",
   "name": "python3"
  },
  "language_info": {
   "codemirror_mode": {
    "name": "ipython",
    "version": 3
   },
   "file_extension": ".py",
   "mimetype": "text/x-python",
   "name": "python",
   "nbconvert_exporter": "python",
   "pygments_lexer": "ipython3",
   "version": "3.6.9"
  }
 },
 "nbformat": 4,
 "nbformat_minor": 4
}
