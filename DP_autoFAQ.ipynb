{
 "cells": [
  {
   "cell_type": "markdown",
   "metadata": {
    "colab_type": "text",
    "id": "B7fbDvssiBrV"
   },
   "source": [
    "# DeepPavlov: Utterances classification with small training set (autoFAQ models)\n",
    "\n",
    "\n",
    "This notebook consists of code snippets of [DeepPavlov](https://github.com/deepmipt/DeepPavlov) - open-source conversational AI framework. The snippets show how to interact with text classification models that were specifically developed to be effective when training data are limited. The popular use case scenario for these models is to classify user utterances into one of the FAQ questions and retrieve the corresponding answer (autoFAQ models). As a testbed, we used the students’ FAQ from the [MIPT website](https://mipt.ru/english/edu/faqs/). The FAQ contains the most popular first-year students' questions with corresponding answers.\n",
    "The framework allows you to train models, fine-tune hyperparameters, and to test models."
   ]
  },
  {
   "cell_type": "markdown",
   "metadata": {
    "colab_type": "text",
    "id": "x_hoGWCfhxLh"
   },
   "source": [
    "# Requirements\n",
    "\n",
    "First, install all required packages"
   ]
  },
  {
   "cell_type": "code",
   "execution_count": null,
   "metadata": {
    "colab": {},
    "colab_type": "code",
    "id": "Cq5OKrvuH4Qp"
   },
   "outputs": [],
   "source": []
  },
  {
   "cell_type": "code",
   "execution_count": null,
   "metadata": {
    "colab": {},
    "colab_type": "code",
    "id": "qFS0mQCI3Lb3"
   },
   "outputs": [],
   "source": [
    "# !pip install spacy\n",
    "# !python -m spacy download en_core_web_sm"
   ]
  },
  {
   "cell_type": "code",
   "execution_count": null,
   "metadata": {
    "colab": {
     "base_uri": "https://localhost:8080/",
     "height": 683
    },
    "colab_type": "code",
    "id": "qhvF6Petcd0r",
    "outputId": "ec2f36c8-adc2-415d-cc1f-24031bc8d9ed"
   },
   "outputs": [
    {
     "name": "stdout",
     "output_type": "stream",
     "text": [
      "Collecting https://github.com/explosion/spacy-models/releases/download/en_core_web_sm-2.0.0/en_core_web_sm-2.0.0.tar.gz\n",
      "  Downloading https://github.com/explosion/spacy-models/releases/download/en_core_web_sm-2.0.0/en_core_web_sm-2.0.0.tar.gz (37.4MB)\n",
      "Requirement already satisfied (use --upgrade to upgrade): en-core-web-sm==2.0.0 from https://github.com/explosion/spacy-models/releases/download/en_core_web_sm-2.0.0/en_core_web_sm-2.0.0.tar.gz in /usr/local/lib/python3.6/dist-packages\n",
      "Requirement already satisfied: spacy>=2.0.0a18 in /usr/local/lib/python3.6/dist-packages (from en-core-web-sm==2.0.0) (2.0.5)\n",
      "Requirement already satisfied: dill<0.3,>=0.2 in /usr/local/lib/python3.6/dist-packages (from spacy>=2.0.0a18->en-core-web-sm==2.0.0) (0.2.8.2)\n",
      "Requirement already satisfied: regex==2017.4.5 in /usr/local/lib/python3.6/dist-packages (from spacy>=2.0.0a18->en-core-web-sm==2.0.0) (2017.4.5)\n",
      "Requirement already satisfied: ftfy<5.0.0,>=4.4.2 in /usr/local/lib/python3.6/dist-packages (from spacy>=2.0.0a18->en-core-web-sm==2.0.0) (4.4.3)\n",
      "Requirement already satisfied: cymem<1.32,>=1.30 in /usr/local/lib/python3.6/dist-packages (from spacy>=2.0.0a18->en-core-web-sm==2.0.0) (1.31.2)\n",
      "Requirement already satisfied: msgpack-python in /usr/local/lib/python3.6/dist-packages (from spacy>=2.0.0a18->en-core-web-sm==2.0.0) (0.5.6)\n",
      "Requirement already satisfied: requests<3.0.0,>=2.13.0 in /usr/local/lib/python3.6/dist-packages (from spacy>=2.0.0a18->en-core-web-sm==2.0.0) (2.19.1)\n",
      "Requirement already satisfied: msgpack-numpy==0.4.1 in /usr/local/lib/python3.6/dist-packages (from spacy>=2.0.0a18->en-core-web-sm==2.0.0) (0.4.1)\n",
      "Requirement already satisfied: thinc<6.11.0,>=6.10.1 in /usr/local/lib/python3.6/dist-packages (from spacy>=2.0.0a18->en-core-web-sm==2.0.0) (6.10.3)\n",
      "Requirement already satisfied: six in /usr/local/lib/python3.6/dist-packages (from spacy>=2.0.0a18->en-core-web-sm==2.0.0) (1.11.0)\n",
      "Requirement already satisfied: murmurhash<0.29,>=0.28 in /usr/local/lib/python3.6/dist-packages (from spacy>=2.0.0a18->en-core-web-sm==2.0.0) (0.28.0)\n",
      "Requirement already satisfied: pathlib in /usr/local/lib/python3.6/dist-packages (from spacy>=2.0.0a18->en-core-web-sm==2.0.0) (1.0.1)\n",
      "Requirement already satisfied: preshed<2.0.0,>=1.0.0 in /usr/local/lib/python3.6/dist-packages (from spacy>=2.0.0a18->en-core-web-sm==2.0.0) (1.0.1)\n",
      "Requirement already satisfied: ujson>=1.35 in /usr/local/lib/python3.6/dist-packages (from spacy>=2.0.0a18->en-core-web-sm==2.0.0) (1.35)\n",
      "Requirement already satisfied: numpy>=1.7 in /usr/local/lib/python3.6/dist-packages (from spacy>=2.0.0a18->en-core-web-sm==2.0.0) (1.14.5)\n",
      "Requirement already satisfied: plac<1.0.0,>=0.9.6 in /usr/local/lib/python3.6/dist-packages (from spacy>=2.0.0a18->en-core-web-sm==2.0.0) (0.9.6)\n",
      "Requirement already satisfied: html5lib in /usr/local/lib/python3.6/dist-packages (from ftfy<5.0.0,>=4.4.2->spacy>=2.0.0a18->en-core-web-sm==2.0.0) (1.0.1)\n",
      "Requirement already satisfied: wcwidth in /usr/local/lib/python3.6/dist-packages (from ftfy<5.0.0,>=4.4.2->spacy>=2.0.0a18->en-core-web-sm==2.0.0) (0.1.7)\n",
      "Requirement already satisfied: chardet<3.1.0,>=3.0.2 in /usr/local/lib/python3.6/dist-packages (from requests<3.0.0,>=2.13.0->spacy>=2.0.0a18->en-core-web-sm==2.0.0) (3.0.4)\n",
      "Requirement already satisfied: idna<2.8,>=2.5 in /usr/local/lib/python3.6/dist-packages (from requests<3.0.0,>=2.13.0->spacy>=2.0.0a18->en-core-web-sm==2.0.0) (2.6)\n",
      "Requirement already satisfied: certifi>=2017.4.17 in /usr/local/lib/python3.6/dist-packages (from requests<3.0.0,>=2.13.0->spacy>=2.0.0a18->en-core-web-sm==2.0.0) (2018.11.29)\n",
      "Requirement already satisfied: urllib3<1.24,>=1.21.1 in /usr/local/lib/python3.6/dist-packages (from requests<3.0.0,>=2.13.0->spacy>=2.0.0a18->en-core-web-sm==2.0.0) (1.22)\n",
      "Requirement already satisfied: msgpack<1.0.0,>=0.5.6 in /usr/local/lib/python3.6/dist-packages (from thinc<6.11.0,>=6.10.1->spacy>=2.0.0a18->en-core-web-sm==2.0.0) (0.5.6)\n",
      "Requirement already satisfied: tqdm<5.0.0,>=4.10.0 in /usr/local/lib/python3.6/dist-packages (from thinc<6.11.0,>=6.10.1->spacy>=2.0.0a18->en-core-web-sm==2.0.0) (4.23.4)\n",
      "Requirement already satisfied: wrapt<1.11.0,>=1.10.0 in /usr/local/lib/python3.6/dist-packages (from thinc<6.11.0,>=6.10.1->spacy>=2.0.0a18->en-core-web-sm==2.0.0) (1.10.11)\n",
      "Requirement already satisfied: cytoolz<0.10,>=0.9.0 in /usr/local/lib/python3.6/dist-packages (from thinc<6.11.0,>=6.10.1->spacy>=2.0.0a18->en-core-web-sm==2.0.0) (0.9.0.1)\n",
      "Requirement already satisfied: webencodings in /usr/local/lib/python3.6/dist-packages (from html5lib->ftfy<5.0.0,>=4.4.2->spacy>=2.0.0a18->en-core-web-sm==2.0.0) (0.5.1)\n",
      "Requirement already satisfied: toolz>=0.8.0 in /usr/local/lib/python3.6/dist-packages (from cytoolz<0.10,>=0.9.0->thinc<6.11.0,>=6.10.1->spacy>=2.0.0a18->en-core-web-sm==2.0.0) (0.9.0)\n",
      "\n",
      "\u001b[93m    Linking successful\u001b[0m\n",
      "    /usr/local/lib/python3.6/dist-packages/en_core_web_sm -->\n",
      "    /usr/local/lib/python3.6/dist-packages/spacy/data/en_core_web_sm\n",
      "\n",
      "    You can now load the model via spacy.load('en_core_web_sm')\n",
      "\n"
     ]
    }
   ],
   "source": [
    "%%bash\n",
    "# pip install deeppavlov\n",
    "# pip install spacy\n",
    "python -m spacy download en_core_web_sm"
   ]
  },
  {
   "cell_type": "markdown",
   "metadata": {
    "colab_type": "text",
    "id": "EVWji-oNOl2I"
   },
   "source": [
    "#Model Description\n",
    "\n",
    "DeepPavlov contains several text classification models that work well on a few training pairs. All the models are based on two major text representations: fastText word embeddings and tf-idf representation. The models described in the separated configuration files under the [config/faq folder](https://github.com/deepmipt/DeepPavlov/tree/master/deeppavlov/configs/faq). The config file consists of four main sections: **dataset_reader**, **dataset_iterator**, **chainer**, and **train**.\n",
    "\n",
    "The **dataset_iteratot** specifies how to split the data into train, valid, test sets. The **chainer** section of the configuration files contains a pipeline of the required components to interact with the models, i.e. tokenizer, lemmatizer, tf-idf vectorizer, and others. The tokenizer splits a string into tokens, lemmatizer converts all tokens into lemmas. The tf-idf vectorizer transforms the lemmas into tf-idf vectors. The component’s input and output are defined in the **in** and **out** keys correspondingly.\n",
    "\n",
    "The [configuration file](https://github.com/deepmipt/DeepPavlov/blob/master/deeppavlov/configs/faq/tfidf_logreg_en_faq.json) based on logistic regression is following."
   ]
  },
  {
   "cell_type": "code",
   "execution_count": null,
   "metadata": {
    "colab": {},
    "colab_type": "code",
    "id": "J92RZ_A8OsZM"
   },
   "outputs": [],
   "source": [
    "{\n",
    "  \"dataset_reader\": {\n",
    "    \"name\": \"faq_reader\",\n",
    "    \"x_col_name\": \"Question\",\n",
    "    \"y_col_name\": \"Answer\",\n",
    "    \"data_url\": \"http://files.deeppavlov.ai/faq/mipt/faq.csv\"\n",
    "  },\n",
    "  \"dataset_iterator\": {\n",
    "    \"name\": \"data_learning_iterator\"\n",
    "  },\n",
    "  \"chainer\": {\n",
    "    \"in\": \"q\",\n",
    "    \"pipe\": [\n",
    "      {\n",
    "        \"name\": \"stream_spacy_tokenizer\",\n",
    "        \"in\": \"q\",\n",
    "        \"id\": \"my_tokenizer\",\n",
    "        \"lemmas\": true,\n",
    "        \"out\": \"q_token_lemmas\"\n",
    "      },\n",
    "      {\n",
    "        \"ref\": \"my_tokenizer\",\n",
    "        \"in\": \"q_token_lemmas\",\n",
    "        \"out\": \"q_lem\"\n",
    "      },\n",
    "      {\n",
    "        \"in\": [\n",
    "          \"q_lem\"\n",
    "        ],\n",
    "        \"out\": [\n",
    "          \"q_vect\"\n",
    "        ],\n",
    "        \"fit_on\": [\n",
    "          \"q_lem\"\n",
    "        ],\n",
    "        \"id\": \"tfidf_vec\",\n",
    "        \"name\": \"sklearn_component\",\n",
    "        \"save_path\": \"faq/mipt/en_mipt_faq_v1/tfidf.pkl\",\n",
    "        \"load_path\": \"faq/mipt/en_mipt_faq_v1/tfidf.pkl\",\n",
    "        \"model_class\": \"sklearn.feature_extraction.text:TfidfVectorizer\",\n",
    "        \"infer_method\": \"transform\"\n",
    "      },\n",
    "      {\n",
    "        \"in\": \"q_vect\",\n",
    "        \"fit_on\": [\n",
    "          \"q_vect\",\n",
    "          \"y\"\n",
    "        ],\n",
    "        \"out\": [\n",
    "          \"answer\"\n",
    "        ],\n",
    "        \"name\": \"sklearn_component\",\n",
    "        \"main\": true,\n",
    "        \"save_path\": \"faq/mipt/en_mipt_faq_v1/logreg.pkl\",\n",
    "        \"load_path\": \"faq/mipt/en_mipt_faq_v1/logreg.pkl\",\n",
    "        \"model_class\": \"sklearn.linear_model:LogisticRegression\",\n",
    "        \"infer_method\": \"predict\",\n",
    "        \"C\": 1000,\n",
    "        \"penalty\": \"l2\"\n",
    "      }\n",
    "    ],\n",
    "    \"out\": [\n",
    "      \"answer\"\n",
    "    ]\n",
    "  },\n",
    "  \"train\": {\n",
    "    \"validate_best\": false,\n",
    "    \"test_best\": false\n",
    "  },\n",
    "  \"metadata\": {\n",
    "    \"requirements\": [\n",
    "      \"../dp_requirements/spacy.txt\",\n",
    "      \"../dp_requirements/en_core_web_sm.txt\"\n",
    "    ],\n",
    "    \"download\": [\n",
    "      {\n",
    "        \"url\": \"http://files.deeppavlov.ai/faq/mipt/en_mipt_faq_v1.tar.gz\",\n",
    "        \"subdir\": \"faq/mipt\"\n",
    "      }\n",
    "    ]\n",
    "  }\n",
    "}\n"
   ]
  },
  {
   "cell_type": "markdown",
   "metadata": {
    "colab_type": "text",
    "id": "u1hsQECYf5yX"
   },
   "source": [
    "# Interacting with the model\n",
    "\n",
    "The DeepPavlov framework contains several models pre-trained on the aforementioned MIPT FAQ corpus. The files with the pre-trained models defined in the **metadata: download** section of the model's configuration file. You can interact with the model by running it from the command line with ***interact*** parameter and the name of the model's configuration file (-d indicates to download all required files)"
   ]
  },
  {
   "cell_type": "code",
   "execution_count": null,
   "metadata": {
    "colab": {
     "base_uri": "https://localhost:8080/",
     "height": 2111
    },
    "colab_type": "code",
    "id": "UydjsTwLfryF",
    "outputId": "17386d79-1c3b-4739-b502-67e2432a0b20"
   },
   "outputs": [
    {
     "name": "stdout",
     "output_type": "stream",
     "text": [
      "2018-12-06 15:26:50.590 INFO in 'deeppavlov.core.common.file'['file'] at line 31: Interpreting 'tfidf_logreg_en_faq' as '/usr/local/lib/python3.6/dist-packages/deeppavlov/configs/faq/tfidf_logreg_en_faq.json'\n",
      "Collecting spacy==2.0.5\n",
      "\u001b[?25l  Downloading https://files.pythonhosted.org/packages/eb/21/d0370cd5d6b7061b1fe09d9d4266cc0a82e3feb39de4aa22f6c574ae84b7/spacy-2.0.5.tar.gz (13.3MB)\n",
      "\u001b[K    100% |████████████████████████████████| 13.3MB 2.7MB/s \n",
      "\u001b[?25hRequirement already satisfied: numpy>=1.7 in /usr/local/lib/python3.6/dist-packages (from spacy==2.0.5) (1.14.5)\n",
      "Collecting murmurhash<0.29,>=0.28 (from spacy==2.0.5)\n",
      "  Downloading https://files.pythonhosted.org/packages/82/55/7f050e9f73c9a58df219c63e77304b0ff01676847061dc99abb484cff3a8/murmurhash-0.28.0-cp36-cp36m-manylinux1_x86_64.whl\n",
      "Collecting cymem<1.32,>=1.30 (from spacy==2.0.5)\n",
      "  Downloading https://files.pythonhosted.org/packages/a5/0f/d29aa68c55db37844c77e7e96143bd96651fd0f4453c9f6ee043ac846b77/cymem-1.31.2-cp36-cp36m-manylinux1_x86_64.whl\n",
      "Collecting preshed<2.0.0,>=1.0.0 (from spacy==2.0.5)\n",
      "\u001b[?25l  Downloading https://files.pythonhosted.org/packages/12/88/57a818051f3d71e800bfb7ba4df56d3ea5793482ef11f1d2109b726f3bac/preshed-1.0.1-cp36-cp36m-manylinux1_x86_64.whl (80kB)\n",
      "\u001b[K    100% |████████████████████████████████| 81kB 24.4MB/s \n",
      "\u001b[?25hCollecting thinc<6.11.0,>=6.10.1 (from spacy==2.0.5)\n",
      "\u001b[?25l  Downloading https://files.pythonhosted.org/packages/94/b1/47a88072d0a38b3594c0a638a62f9ef7c742b8b8a87f7b105f7ed720b14b/thinc-6.10.3.tar.gz (1.2MB)\n",
      "\u001b[K    100% |████████████████████████████████| 1.2MB 12.2MB/s \n",
      "\u001b[?25hRequirement already satisfied: plac<1.0.0,>=0.9.6 in /usr/local/lib/python3.6/dist-packages (from spacy==2.0.5) (0.9.6)\n",
      "Requirement already satisfied: six in /usr/local/lib/python3.6/dist-packages (from spacy==2.0.5) (1.11.0)\n",
      "Collecting pathlib (from spacy==2.0.5)\n",
      "\u001b[?25l  Downloading https://files.pythonhosted.org/packages/ac/aa/9b065a76b9af472437a0059f77e8f962fe350438b927cb80184c32f075eb/pathlib-1.0.1.tar.gz (49kB)\n",
      "\u001b[K    100% |████████████████████████████████| 51kB 18.0MB/s \n",
      "\u001b[?25hRequirement already satisfied: ujson>=1.35 in /usr/local/lib/python3.6/dist-packages (from spacy==2.0.5) (1.35)\n",
      "Requirement already satisfied: dill<0.3,>=0.2 in /usr/local/lib/python3.6/dist-packages (from spacy==2.0.5) (0.2.8.2)\n",
      "Requirement already satisfied: requests<3.0.0,>=2.13.0 in /usr/local/lib/python3.6/dist-packages (from spacy==2.0.5) (2.19.1)\n",
      "Collecting regex==2017.4.5 (from spacy==2.0.5)\n",
      "\u001b[?25l  Downloading https://files.pythonhosted.org/packages/36/62/c0c0d762ffd4ffaf39f372eb8561b8d491a11ace5a7884610424a8b40f95/regex-2017.04.05.tar.gz (601kB)\n",
      "\u001b[K    100% |████████████████████████████████| 604kB 21.5MB/s \n",
      "\u001b[?25hCollecting ftfy<5.0.0,>=4.4.2 (from spacy==2.0.5)\n",
      "\u001b[?25l  Downloading https://files.pythonhosted.org/packages/21/5d/9385540977b00df1f3a0c0f07b7e6c15b5e7a3109d7f6ae78a0a764dab22/ftfy-4.4.3.tar.gz (50kB)\n",
      "\u001b[K    100% |████████████████████████████████| 51kB 21.1MB/s \n",
      "\u001b[?25hCollecting msgpack-python (from spacy==2.0.5)\n",
      "\u001b[?25l  Downloading https://files.pythonhosted.org/packages/8a/20/6eca772d1a5830336f84aca1d8198e5a3f4715cd1c7fc36d3cc7f7185091/msgpack-python-0.5.6.tar.gz (138kB)\n",
      "\u001b[K    100% |████████████████████████████████| 143kB 26.0MB/s \n",
      "\u001b[?25hCollecting msgpack-numpy==0.4.1 (from spacy==2.0.5)\n",
      "  Downloading https://files.pythonhosted.org/packages/2e/43/393e30e2768b0357541ac95891f96b80ccc4d517e0dd2fa3042fc8926538/msgpack_numpy-0.4.1-py2.py3-none-any.whl\n",
      "Requirement already satisfied: msgpack<1.0.0,>=0.5.6 in /usr/local/lib/python3.6/dist-packages (from thinc<6.11.0,>=6.10.1->spacy==2.0.5) (0.5.6)\n",
      "Requirement already satisfied: cytoolz<0.10,>=0.9.0 in /usr/local/lib/python3.6/dist-packages (from thinc<6.11.0,>=6.10.1->spacy==2.0.5) (0.9.0.1)\n",
      "Requirement already satisfied: wrapt<1.11.0,>=1.10.0 in /usr/local/lib/python3.6/dist-packages (from thinc<6.11.0,>=6.10.1->spacy==2.0.5) (1.10.11)\n",
      "Requirement already satisfied: tqdm<5.0.0,>=4.10.0 in /usr/local/lib/python3.6/dist-packages (from thinc<6.11.0,>=6.10.1->spacy==2.0.5) (4.23.4)\n",
      "Requirement already satisfied: chardet<3.1.0,>=3.0.2 in /usr/local/lib/python3.6/dist-packages (from requests<3.0.0,>=2.13.0->spacy==2.0.5) (3.0.4)\n",
      "Requirement already satisfied: urllib3<1.24,>=1.21.1 in /usr/local/lib/python3.6/dist-packages (from requests<3.0.0,>=2.13.0->spacy==2.0.5) (1.22)\n",
      "Requirement already satisfied: idna<2.8,>=2.5 in /usr/local/lib/python3.6/dist-packages (from requests<3.0.0,>=2.13.0->spacy==2.0.5) (2.6)\n",
      "Requirement already satisfied: certifi>=2017.4.17 in /usr/local/lib/python3.6/dist-packages (from requests<3.0.0,>=2.13.0->spacy==2.0.5) (2018.11.29)\n",
      "Collecting html5lib (from ftfy<5.0.0,>=4.4.2->spacy==2.0.5)\n",
      "\u001b[?25l  Downloading https://files.pythonhosted.org/packages/a5/62/bbd2be0e7943ec8504b517e62bab011b4946e1258842bc159e5dfde15b96/html5lib-1.0.1-py2.py3-none-any.whl (117kB)\n",
      "\u001b[K    100% |████████████████████████████████| 122kB 30.4MB/s \n",
      "\u001b[?25hRequirement already satisfied: wcwidth in /usr/local/lib/python3.6/dist-packages (from ftfy<5.0.0,>=4.4.2->spacy==2.0.5) (0.1.7)\n",
      "Requirement already satisfied: toolz>=0.8.0 in /usr/local/lib/python3.6/dist-packages (from cytoolz<0.10,>=0.9.0->thinc<6.11.0,>=6.10.1->spacy==2.0.5) (0.9.0)\n",
      "Requirement already satisfied: webencodings in /usr/local/lib/python3.6/dist-packages (from html5lib->ftfy<5.0.0,>=4.4.2->spacy==2.0.5) (0.5.1)\n",
      "Building wheels for collected packages: spacy, thinc, pathlib, regex, ftfy, msgpack-python\n",
      "  Running setup.py bdist_wheel for spacy ... \u001b[?25ldone\n",
      "\u001b[?25h  Stored in directory: /root/.cache/pip/wheels/e0/9e/5c/fcc58667983ae85a26aa032887eaab03b537bf8c3e0bf49cfe\n",
      "  Running setup.py bdist_wheel for thinc ... \u001b[?25ldone\n",
      "\u001b[?25h  Stored in directory: /root/.cache/pip/wheels/db/bc/e1/9b321b6b203288cf636a56e668ed5700076af4ed66062278ca\n",
      "  Running setup.py bdist_wheel for pathlib ... \u001b[?25ldone\n",
      "\u001b[?25h  Stored in directory: /root/.cache/pip/wheels/f9/b2/4a/68efdfe5093638a9918bd1bb734af625526e849487200aa171\n",
      "  Running setup.py bdist_wheel for regex ... \u001b[?25ldone\n",
      "\u001b[?25h  Stored in directory: /root/.cache/pip/wheels/75/07/38/3c16b529d50cb4e0cd3dbc7b75cece8a09c132692c74450b01\n",
      "  Running setup.py bdist_wheel for ftfy ... \u001b[?25ldone\n",
      "\u001b[?25h  Stored in directory: /root/.cache/pip/wheels/37/54/00/d320239bfc8aad1455314f302dd82a75253fc585e17b81704e\n",
      "  Running setup.py bdist_wheel for msgpack-python ... \u001b[?25ldone\n",
      "\u001b[?25h  Stored in directory: /root/.cache/pip/wheels/d5/de/86/7fa56fda12511be47ea0808f3502bc879df4e63ab168ec0406\n",
      "Successfully built spacy thinc pathlib regex ftfy msgpack-python\n",
      "Installing collected packages: murmurhash, cymem, preshed, msgpack-python, msgpack-numpy, thinc, pathlib, regex, html5lib, ftfy, spacy\n",
      "  Found existing installation: murmurhash 1.0.1\n",
      "    Uninstalling murmurhash-1.0.1:\n",
      "      Successfully uninstalled murmurhash-1.0.1\n",
      "  Found existing installation: cymem 2.0.2\n",
      "    Uninstalling cymem-2.0.2:\n",
      "      Successfully uninstalled cymem-2.0.2\n",
      "  Found existing installation: preshed 2.0.1\n",
      "    Uninstalling preshed-2.0.1:\n",
      "      Successfully uninstalled preshed-2.0.1\n",
      "  Found existing installation: msgpack-numpy 0.4.3.2\n",
      "    Uninstalling msgpack-numpy-0.4.3.2:\n",
      "      Successfully uninstalled msgpack-numpy-0.4.3.2\n",
      "  Found existing installation: thinc 6.12.1\n",
      "    Uninstalling thinc-6.12.1:\n",
      "      Successfully uninstalled thinc-6.12.1\n",
      "  Found existing installation: regex 2018.1.10\n",
      "    Uninstalling regex-2018.1.10:\n",
      "      Successfully uninstalled regex-2018.1.10\n",
      "  Found existing installation: spacy 2.0.18\n",
      "    Uninstalling spacy-2.0.18:\n",
      "      Successfully uninstalled spacy-2.0.18\n",
      "Successfully installed cymem-1.31.2 ftfy-4.4.3 html5lib-1.0.1 msgpack-numpy-0.4.1 msgpack-python-0.5.6 murmurhash-0.28.0 pathlib-1.0.1 preshed-1.0.1 regex-2017.4.5 spacy-2.0.5 thinc-6.10.3\n",
      "Collecting en_core_web_sm==2.0.0 from https://github.com/explosion/spacy-models/releases/download/en_core_web_sm-2.0.0/en_core_web_sm-2.0.0.tar.gz#egg=en_core_web_sm==2.0.0\n",
      "\u001b[?25l  Downloading https://github.com/explosion/spacy-models/releases/download/en_core_web_sm-2.0.0/en_core_web_sm-2.0.0.tar.gz (37.4MB)\n",
      "\u001b[K    100% |████████████████████████████████| 37.4MB 787kB/s \n",
      "\u001b[?25hRequirement already satisfied: spacy>=2.0.0a18 in /usr/local/lib/python3.6/dist-packages (from en_core_web_sm==2.0.0) (2.0.5)\n",
      "Requirement already satisfied: regex==2017.4.5 in /usr/local/lib/python3.6/dist-packages (from spacy>=2.0.0a18->en_core_web_sm==2.0.0) (2017.4.5)\n",
      "Requirement already satisfied: six in /usr/local/lib/python3.6/dist-packages (from spacy>=2.0.0a18->en_core_web_sm==2.0.0) (1.11.0)\n",
      "Requirement already satisfied: msgpack-numpy==0.4.1 in /usr/local/lib/python3.6/dist-packages (from spacy>=2.0.0a18->en_core_web_sm==2.0.0) (0.4.1)\n",
      "Requirement already satisfied: ftfy<5.0.0,>=4.4.2 in /usr/local/lib/python3.6/dist-packages (from spacy>=2.0.0a18->en_core_web_sm==2.0.0) (4.4.3)\n",
      "Requirement already satisfied: msgpack-python in /usr/local/lib/python3.6/dist-packages (from spacy>=2.0.0a18->en_core_web_sm==2.0.0) (0.5.6)\n",
      "Requirement already satisfied: thinc<6.11.0,>=6.10.1 in /usr/local/lib/python3.6/dist-packages (from spacy>=2.0.0a18->en_core_web_sm==2.0.0) (6.10.3)\n",
      "Requirement already satisfied: numpy>=1.7 in /usr/local/lib/python3.6/dist-packages (from spacy>=2.0.0a18->en_core_web_sm==2.0.0) (1.14.5)\n",
      "Requirement already satisfied: requests<3.0.0,>=2.13.0 in /usr/local/lib/python3.6/dist-packages (from spacy>=2.0.0a18->en_core_web_sm==2.0.0) (2.19.1)\n",
      "Requirement already satisfied: ujson>=1.35 in /usr/local/lib/python3.6/dist-packages (from spacy>=2.0.0a18->en_core_web_sm==2.0.0) (1.35)\n",
      "Requirement already satisfied: dill<0.3,>=0.2 in /usr/local/lib/python3.6/dist-packages (from spacy>=2.0.0a18->en_core_web_sm==2.0.0) (0.2.8.2)\n",
      "Requirement already satisfied: cymem<1.32,>=1.30 in /usr/local/lib/python3.6/dist-packages (from spacy>=2.0.0a18->en_core_web_sm==2.0.0) (1.31.2)\n",
      "Requirement already satisfied: plac<1.0.0,>=0.9.6 in /usr/local/lib/python3.6/dist-packages (from spacy>=2.0.0a18->en_core_web_sm==2.0.0) (0.9.6)\n",
      "Requirement already satisfied: pathlib in /usr/local/lib/python3.6/dist-packages (from spacy>=2.0.0a18->en_core_web_sm==2.0.0) (1.0.1)\n",
      "Requirement already satisfied: murmurhash<0.29,>=0.28 in /usr/local/lib/python3.6/dist-packages (from spacy>=2.0.0a18->en_core_web_sm==2.0.0) (0.28.0)\n",
      "Requirement already satisfied: preshed<2.0.0,>=1.0.0 in /usr/local/lib/python3.6/dist-packages (from spacy>=2.0.0a18->en_core_web_sm==2.0.0) (1.0.1)\n",
      "Requirement already satisfied: wcwidth in /usr/local/lib/python3.6/dist-packages (from ftfy<5.0.0,>=4.4.2->spacy>=2.0.0a18->en_core_web_sm==2.0.0) (0.1.7)\n",
      "Requirement already satisfied: html5lib in /usr/local/lib/python3.6/dist-packages (from ftfy<5.0.0,>=4.4.2->spacy>=2.0.0a18->en_core_web_sm==2.0.0) (1.0.1)\n",
      "Requirement already satisfied: tqdm<5.0.0,>=4.10.0 in /usr/local/lib/python3.6/dist-packages (from thinc<6.11.0,>=6.10.1->spacy>=2.0.0a18->en_core_web_sm==2.0.0) (4.23.4)\n",
      "Requirement already satisfied: cytoolz<0.10,>=0.9.0 in /usr/local/lib/python3.6/dist-packages (from thinc<6.11.0,>=6.10.1->spacy>=2.0.0a18->en_core_web_sm==2.0.0) (0.9.0.1)\n",
      "Requirement already satisfied: msgpack<1.0.0,>=0.5.6 in /usr/local/lib/python3.6/dist-packages (from thinc<6.11.0,>=6.10.1->spacy>=2.0.0a18->en_core_web_sm==2.0.0) (0.5.6)\n",
      "Requirement already satisfied: wrapt<1.11.0,>=1.10.0 in /usr/local/lib/python3.6/dist-packages (from thinc<6.11.0,>=6.10.1->spacy>=2.0.0a18->en_core_web_sm==2.0.0) (1.10.11)\n",
      "Requirement already satisfied: certifi>=2017.4.17 in /usr/local/lib/python3.6/dist-packages (from requests<3.0.0,>=2.13.0->spacy>=2.0.0a18->en_core_web_sm==2.0.0) (2018.11.29)\n",
      "Requirement already satisfied: urllib3<1.24,>=1.21.1 in /usr/local/lib/python3.6/dist-packages (from requests<3.0.0,>=2.13.0->spacy>=2.0.0a18->en_core_web_sm==2.0.0) (1.22)\n",
      "Requirement already satisfied: idna<2.8,>=2.5 in /usr/local/lib/python3.6/dist-packages (from requests<3.0.0,>=2.13.0->spacy>=2.0.0a18->en_core_web_sm==2.0.0) (2.6)\n",
      "Requirement already satisfied: chardet<3.1.0,>=3.0.2 in /usr/local/lib/python3.6/dist-packages (from requests<3.0.0,>=2.13.0->spacy>=2.0.0a18->en_core_web_sm==2.0.0) (3.0.4)\n",
      "Requirement already satisfied: webencodings in /usr/local/lib/python3.6/dist-packages (from html5lib->ftfy<5.0.0,>=4.4.2->spacy>=2.0.0a18->en_core_web_sm==2.0.0) (0.5.1)\n",
      "Requirement already satisfied: toolz>=0.8.0 in /usr/local/lib/python3.6/dist-packages (from cytoolz<0.10,>=0.9.0->thinc<6.11.0,>=6.10.1->spacy>=2.0.0a18->en_core_web_sm==2.0.0) (0.9.0)\n",
      "Building wheels for collected packages: en-core-web-sm\n",
      "  Running setup.py bdist_wheel for en-core-web-sm ... \u001b[?25ldone\n",
      "\u001b[?25h  Stored in directory: /root/.cache/pip/wheels/54/7c/d8/f86364af8fbba7258e14adae115f18dd2c91552406edc3fdaa\n",
      "Successfully built en-core-web-sm\n",
      "Installing collected packages: en-core-web-sm\n",
      "Successfully installed en-core-web-sm-2.0.0\n"
     ]
    }
   ],
   "source": [
    "!python -m deeppavlov install tfidf_logreg_en_faq"
   ]
  },
  {
   "cell_type": "code",
   "execution_count": null,
   "metadata": {
    "colab": {
     "base_uri": "https://localhost:8080/",
     "height": 615
    },
    "colab_type": "code",
    "id": "H_YQYuj2_Xpx",
    "outputId": "678c140a-74fb-4187-b70c-4b441c2c84c2"
   },
   "outputs": [
    {
     "name": "stdout",
     "output_type": "stream",
     "text": [
      "2018-12-06 15:17:11.217 INFO in 'deeppavlov.core.common.file'['file'] at line 31: Interpreting 'tfidf_logreg_en_faq' as '/usr/local/lib/python3.6/dist-packages/deeppavlov/configs/faq/tfidf_logreg_en_faq.json'\n",
      "2018-12-06 15:17:11.222 DEBUG in 'urllib3.connectionpool'['connectionpool'] at line 208: Starting new HTTP connection (1): files.deeppavlov.ai\n",
      "2018-12-06 15:17:11.531 DEBUG in 'urllib3.connectionpool'['connectionpool'] at line 396: http://files.deeppavlov.ai:80 \"GET /faq/mipt/en_mipt_faq_v1.tar.gz.md5 HTTP/1.1\" 200 119\n",
      "2018-12-06 15:17:11.533 INFO in 'deeppavlov.download'['download'] at line 115: Skipped http://files.deeppavlov.ai/faq/mipt/en_mipt_faq_v1.tar.gz download because of matching hashes\n",
      "[nltk_data] Downloading package punkt to /root/nltk_data...\n",
      "[nltk_data]   Package punkt is already up-to-date!\n",
      "[nltk_data] Downloading package stopwords to /root/nltk_data...\n",
      "[nltk_data]   Package stopwords is already up-to-date!\n",
      "[nltk_data] Downloading package perluniprops to /root/nltk_data...\n",
      "[nltk_data]   Package perluniprops is already up-to-date!\n",
      "[nltk_data] Downloading package nonbreaking_prefixes to\n",
      "[nltk_data]     /root/nltk_data...\n",
      "[nltk_data]   Package nonbreaking_prefixes is already up-to-date!\n",
      "2018-12-06 15:17:12.989 INFO in 'deeppavlov.models.sklearn.sklearn_component'['sklearn_component'] at line 201: Loading model sklearn.feature_extraction.text:TfidfVectorizer from /root/.deeppavlov/models/faq/mipt/en_mipt_faq_v1/tfidf.pkl\n",
      "2018-12-06 15:17:12.989 INFO in 'deeppavlov.models.sklearn.sklearn_component'['sklearn_component'] at line 208: Model sklearn.feature_extraction.textTfidfVectorizer loaded  with parameters\n",
      "2018-12-06 15:17:12.989 WARNING in 'deeppavlov.models.sklearn.sklearn_component'['sklearn_component'] at line 214: Fitting of loaded model can not be continued. Model can be fitted from scratch.If one needs to continue fitting, please, look at `warm_start` parameter\n",
      "2018-12-06 15:17:12.990 INFO in 'deeppavlov.models.sklearn.sklearn_component'['sklearn_component'] at line 201: Loading model sklearn.linear_model:LogisticRegression from /root/.deeppavlov/models/faq/mipt/en_mipt_faq_v1/logreg.pkl\n",
      "2018-12-06 15:17:12.990 INFO in 'deeppavlov.models.sklearn.sklearn_component'['sklearn_component'] at line 208: Model sklearn.linear_model.logisticLogisticRegression loaded  with parameters\n",
      "2018-12-06 15:17:12.990 WARNING in 'deeppavlov.models.sklearn.sklearn_component'['sklearn_component'] at line 214: Fitting of loaded model can not be continued. Model can be fitted from scratch.If one needs to continue fitting, please, look at `warm_start` parameter\n",
      "q::I need help\n",
      ">> If you have any problems you can address to Department of Foreign Students: +7 (495) 408-70-43 (Auditorium building, room 315).\n",
      "q::Traceback (most recent call last):\n",
      "  File \"/usr/lib/python3.6/runpy.py\", line 193, in _run_module_as_main\n",
      "    \"__main__\", mod_spec)\n",
      "  File \"/usr/lib/python3.6/runpy.py\", line 85, in _run_code\n",
      "    exec(code, run_globals)\n",
      "  File \"/usr/local/lib/python3.6/dist-packages/deeppavlov/__main__.py\", line 3, in <module>\n",
      "    main()\n",
      "  File \"/usr/local/lib/python3.6/dist-packages/deeppavlov/deep.py\", line 84, in main\n",
      "    interact_model(pipeline_config_path)\n",
      "  File \"/usr/local/lib/python3.6/dist-packages/deeppavlov/core/commands/infer.py\", line 69, in interact_model\n",
      "    args.append([input('{}::'.format(in_x))])\n",
      "KeyboardInterrupt\n",
      "^C\n"
     ]
    }
   ],
   "source": [
    "!python -m deeppavlov interact tfidf_logreg_en_faq -d"
   ]
  },
  {
   "cell_type": "markdown",
   "metadata": {
    "colab_type": "text",
    "id": "48TD-v-FO25O"
   },
   "source": [
    "Alternatively, you can ***build_model*** from the Python code as on the example below"
   ]
  },
  {
   "cell_type": "code",
   "execution_count": null,
   "metadata": {
    "cellView": "code",
    "colab": {
     "base_uri": "https://localhost:8080/",
     "height": 224
    },
    "colab_type": "code",
    "id": "wMZqyzBYc2eV",
    "outputId": "14910e68-f733-47bf-91d1-1c7646f79e6b"
   },
   "outputs": [
    {
     "name": "stderr",
     "output_type": "stream",
     "text": [
      "2018-12-06 15:39:10.567 INFO in 'deeppavlov.core.common.file'['file'] at line 31: Interpreting 'tfidf_logreg_en_faq' as '/usr/local/lib/python3.6/dist-packages/deeppavlov/configs/faq/tfidf_logreg_en_faq.json'\n",
      "2018-12-06 15:39:10.581 DEBUG in 'urllib3.connectionpool'['connectionpool'] at line 208: Starting new HTTP connection (1): files.deeppavlov.ai\n",
      "2018-12-06 15:39:10.985 DEBUG in 'urllib3.connectionpool'['connectionpool'] at line 396: http://files.deeppavlov.ai:80 \"GET /faq/mipt/en_mipt_faq_v1.tar.gz.md5 HTTP/1.1\" 200 119\n",
      "2018-12-06 15:39:10.990 INFO in 'deeppavlov.download'['download'] at line 115: Skipped http://files.deeppavlov.ai/faq/mipt/en_mipt_faq_v1.tar.gz download because of matching hashes\n",
      "2018-12-06 15:39:11.637 INFO in 'deeppavlov.models.sklearn.sklearn_component'['sklearn_component'] at line 201: Loading model sklearn.feature_extraction.text:TfidfVectorizer from /root/.deeppavlov/models/faq/mipt/en_mipt_faq_v1/tfidf.pkl\n",
      "2018-12-06 15:39:11.639 INFO in 'deeppavlov.models.sklearn.sklearn_component'['sklearn_component'] at line 208: Model sklearn.feature_extraction.textTfidfVectorizer loaded  with parameters\n",
      "2018-12-06 15:39:11.646 WARNING in 'deeppavlov.models.sklearn.sklearn_component'['sklearn_component'] at line 214: Fitting of loaded model can not be continued. Model can be fitted from scratch.If one needs to continue fitting, please, look at `warm_start` parameter\n",
      "2018-12-06 15:39:11.650 INFO in 'deeppavlov.models.sklearn.sklearn_component'['sklearn_component'] at line 201: Loading model sklearn.linear_model:LogisticRegression from /root/.deeppavlov/models/faq/mipt/en_mipt_faq_v1/logreg.pkl\n",
      "2018-12-06 15:39:11.656 INFO in 'deeppavlov.models.sklearn.sklearn_component'['sklearn_component'] at line 208: Model sklearn.linear_model.logisticLogisticRegression loaded  with parameters\n",
      "2018-12-06 15:39:11.658 WARNING in 'deeppavlov.models.sklearn.sklearn_component'['sklearn_component'] at line 214: Fitting of loaded model can not be continued. Model can be fitted from scratch.If one needs to continue fitting, please, look at `warm_start` parameter\n"
     ]
    },
    {
     "data": {
      "text/plain": [
       "['If you have any problems you can address to Department of Foreign Students: +7 (495) 408-70-43 (Auditorium building, room 315).']"
      ]
     },
     "execution_count": 9,
     "metadata": {
      "tags": []
     },
     "output_type": "execute_result"
    }
   ],
   "source": [
    "from deeppavlov.deep import find_config\n",
    "from deeppavlov.core.commands.infer import build_model\n",
    "config_path = find_config('tfidf_logreg_en_faq')\n",
    "faq = build_model(config_path, load_trained = True, download = True)\n",
    "\n",
    "a = faq([\"I need help\"])\n",
    "a"
   ]
  },
  {
   "cell_type": "code",
   "execution_count": null,
   "metadata": {
    "colab": {
     "base_uri": "https://localhost:8080/",
     "height": 34
    },
    "colab_type": "code",
    "id": "UVw2q38fGjrp",
    "outputId": "2419113c-8851-4b21-ebce-60ac618282d0"
   },
   "outputs": [
    {
     "data": {
      "text/plain": [
       "<spacy.lang.en.English at 0x7f6f319c99e8>"
      ]
     },
     "execution_count": 7,
     "metadata": {
      "tags": []
     },
     "output_type": "execute_result"
    }
   ],
   "source": [
    "import en_core_web_sm\n",
    "m = en_core_web_sm.load()\n",
    "m"
   ]
  },
  {
   "cell_type": "code",
   "execution_count": null,
   "metadata": {
    "colab": {},
    "colab_type": "code",
    "id": "Wqi9YaBdA825"
   },
   "outputs": [],
   "source": []
  },
  {
   "cell_type": "markdown",
   "metadata": {
    "colab_type": "text",
    "id": "TJ_Uqj7K52En"
   },
   "source": [
    "# Training the model\n",
    "\n",
    "You can train a model by running the library with ***train*** parameter, wherein the model will be trained on the dataset defined in the dataset_reader section of the configuration file. If **metrics** key along with either **validate_best** or **test_best** are defined in the train section, the model will be validated/tested on the corresponding set in the dataset_iterator section."
   ]
  },
  {
   "cell_type": "code",
   "execution_count": null,
   "metadata": {
    "colab": {},
    "colab_type": "code",
    "id": "xfOBVt_U5zE4"
   },
   "outputs": [],
   "source": [
    "!python -m deeppavlov train tfidf_logreg_en_faq"
   ]
  },
  {
   "cell_type": "markdown",
   "metadata": {
    "colab_type": "text",
    "id": "93GqENh-PAHc"
   },
   "source": [
    "Let's modify the training data and retrain the model."
   ]
  },
  {
   "cell_type": "code",
   "execution_count": null,
   "metadata": {
    "colab": {},
    "colab_type": "code",
    "id": "FEXzImAIPGEt"
   },
   "outputs": [],
   "source": [
    "%%bash\n",
    "wget -q http://files.deeppavlov.ai/faq/mipt/faq.csv -O faq.csv\n",
    "echo \"What's iPavlov?, iPavlov is the project of the Neural Networks and Deep Learning lab at MIPT \" >> faq.csv"
   ]
  },
  {
   "cell_type": "code",
   "execution_count": null,
   "metadata": {
    "colab": {},
    "colab_type": "code",
    "id": "aN-Yb8Vd4oD6"
   },
   "outputs": [],
   "source": [
    "import json\n",
    "from deeppavlov import configs, train_model, train_evaluate_model_from_config\n",
    "from deeppavlov.deep import find_config\n",
    "\n",
    "config = json.loads(configs.faq.tfidf_logreg_en_faq.read_text(encoding='utf8'))\n",
    "config[\"dataset_reader\"][\"data_path\"] = \"/content/faq.csv\"\n",
    "config[\"dataset_reader\"][\"data_url\"] = None\n",
    "faq = train_model(config)\n",
    "a = faq([\"tell me about iPavlov\"])\n",
    "a"
   ]
  },
  {
   "cell_type": "markdown",
   "metadata": {
    "colab_type": "text",
    "id": "1s2RLyyYUogN"
   },
   "source": [
    "# About Us\n",
    "\n",
    "We are iPavlov, our story started in 2017 when we decided to build a conversational AI framework that on the one hand will contain all required NLP components to build chatbots and on the other hand will be easy to use. Our work resulted in releasing DeepPavlov library. Our lab at MIPT is honored with Facebook AI Academic Partnership and NVIDIA GPU Research Center status. We successfully combine research and extreme coding in our week-long DeepHack.me hackathons — DeepHack.Game, DeepHack.Q&A and DeepHack.RL. We serve a global AI community by organizing NIPS Conversational Challenge to evaluate state-of-the-art techniques in the field of dialog systems and collect open source dialog datasets."
   ]
  },
  {
   "cell_type": "markdown",
   "metadata": {
    "colab_type": "text",
    "id": "yom6JD53QcXk"
   },
   "source": [
    "# Useful links\n",
    "\n",
    "[DeepPavlov repository](https://github.com/deepmipt/DeepPavlov)\n",
    "\n",
    "[DeepPavlov demo page](demo.ipavlov.ai)\n",
    "\n",
    "[DeepPavlov documentation](docs.deeppavlov.ai)"
   ]
  }
 ],
 "metadata": {
  "colab": {
   "collapsed_sections": [],
   "name": "DP:autoFAQ.ipynb",
   "provenance": [],
   "version": "0.3.2"
  },
  "kernelspec": {
   "display_name": "Python 3",
   "language": "python",
   "name": "python3"
  },
  "language_info": {
   "codemirror_mode": {
    "name": "ipython",
    "version": 3
   },
   "file_extension": ".py",
   "mimetype": "text/x-python",
   "name": "python",
   "nbconvert_exporter": "python",
   "pygments_lexer": "ipython3",
   "version": "3.6.4"
  }
 },
 "nbformat": 4,
 "nbformat_minor": 2
}
