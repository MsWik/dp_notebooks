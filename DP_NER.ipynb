{
 "cells": [
  {
   "cell_type": "markdown",
   "metadata": {
    "colab_type": "text",
    "id": "7o7d-wdpgrUo"
   },
   "source": [
    "## Распознавание Именованных Сущностей с помощью библиотеки DeepPavlov\n",
    "---\n",
    "\n",
    "<img align=\"center\" height=\"27%\" width=\"27%\" src=\"https://deeppavlov.ai/docs/_static/ipavlov_logo.png\"/>\n",
    "\n",
    "\n",
    "Задачей Распознавания Именованных Сущностей (NER) называется извлечение из текста таких объектов как \n",
    "**имена**, **названия организаций**, **названия географических объектов**. Данная задача как правило является компонентом в более крупной системе. Например, в диалоговой системе NER может быть использован для выделения имени собеседника. В библиотеке [DeepPavlov](https://github.com/deepmipt/DeepPavlov) есть ряд моделей которые решают данную задачу. Мы рассмотрим две модели решающие задачу NER на русском языке: [BERT](https://arxiv.org/pdf/1810.04805.pdf), показывающий на данный момент наилучшее качество, и [Bi-LSTM-CRF](https://arxiv.org/pdf/1603.01360.pdf) - уступающий по метрикам, однако более быстрый baseline.\n",
    "\n",
    "[NER Demo](https://demo.ipavlov.ai/#/ru/ner)"
   ]
  },
  {
   "cell_type": "markdown",
   "metadata": {
    "colab_type": "text",
    "id": "Bh3IQdJSgrUx"
   },
   "source": [
    "## Постановка задачи\n",
    "\n",
    "Задача НЕР может быть поставлена следующим образом: для заданной последовательность слов предсказать последовательность меток. Каждому входному токену сопоставляется метка из заданного множества меток. Пример: \n",
    "\n",
    "    Microsoft объявила о приобретении Skype Technologies\n",
    "     ORG         O     O       O       ORG      ORG\n",
    "\n",
    "здесь **PER** - персона, **LOC** - локация. Однако, представленная разметка не позволяет разделять подряд идущие сущности. Для разделения таких сущностей используют префиксы B и I перед каждой меткой кроме O. Префикс B обозначает начало сущности, а I - продолжение. Тогда для примера выше будет следующая разметка:\n",
    "\n",
    "    Microsoft объявила о приобретении Skype Technologies\n",
    "      B-ORG      O     O       O      B-ORG    I-ORG\n",
    "\n",
    "Разметка с префиксами B и O - наиболее распространённый способ разметки данных. Данный тип разметки часто называют **BIO** или **IOB**."
   ]
  },
  {
   "cell_type": "markdown",
   "metadata": {
    "colab_type": "text",
    "id": "t6sLDEkYgrU0"
   },
   "source": [
    "## Dataset\n",
    "\n",
    "Рассматриваемые в данном notebook-е модели были обучены на датасете [1]. Данный датасет содержит 1000 новостей в которых размечены персоны (PER), локации (LOC) и организации (ORG). В силу того, что обучающая выборка содержит только новостные данные смена типов распознаваемых текстов может существенно отразиться на качестве работы системы. Например, при использовании модели обученной на новостях переход к распознавания диалогов службы поддрежки может существенно снизить качество работы системы. \n",
    "\n",
    "1. Mozharova V., Loukachevitch N., Two-stage approach in Russian named entity recognition // International FRUCT Conference on Intelligence, Social Media and Web, ISMW FRUCT 2016. Saint-Petersburg; Russian Federation, DOI 10.1109/FRUCT.2016.7584769 "
   ]
  },
  {
   "cell_type": "markdown",
   "metadata": {
    "colab_type": "text",
    "id": "GF4cJjNwgrU4"
   },
   "source": [
    "## Установка библиотеки"
   ]
  },
  {
   "cell_type": "code",
   "execution_count": null,
   "metadata": {
    "colab": {},
    "colab_type": "code",
    "id": "kXn5v0kzgrU7"
   },
   "outputs": [],
   "source": [
    "!pip install -q deeppavlov"
   ]
  },
  {
   "cell_type": "markdown",
   "metadata": {
    "colab_type": "text",
    "id": "lgiy3YIdgrVL"
   },
   "source": [
    "## Установка зависимостей"
   ]
  },
  {
   "cell_type": "code",
   "execution_count": null,
   "metadata": {
    "colab": {},
    "colab_type": "code",
    "id": "EvqfR_9wgrVP",
    "scrolled": true
   },
   "outputs": [],
   "source": [
    "!python -m deeppavlov install ner_rus\n",
    "!python -m deeppavlov install ner_rus_bert"
   ]
  },
  {
   "cell_type": "markdown",
   "metadata": {
    "colab_type": "text",
    "id": "TCT7n3N2grVb"
   },
   "source": [
    "## Использование моделей \n",
    "\n",
    "### BERT \n",
    "\n",
    "BERT - сеть архитектуры Transformer предобученная на задаче Masked Language Modelling (MLM). Модель осуществляющая РИС использует [RuBERT](https://arxiv.org/abs/1905.07213) предобученный на русском языке. "
   ]
  },
  {
   "cell_type": "code",
   "execution_count": null,
   "metadata": {
    "colab": {},
    "colab_type": "code",
    "id": "FG87RYHUgrVf"
   },
   "outputs": [],
   "source": [
    "from deeppavlov import configs, build_model\n",
    "\n",
    "config_path = configs.ner.ner_rus_bert\n",
    "\n",
    "ner = build_model(config_path, download=True)"
   ]
  },
  {
   "cell_type": "code",
   "execution_count": null,
   "metadata": {
    "colab": {},
    "colab_type": "code",
    "id": "9v3Fb_J7grVp"
   },
   "outputs": [],
   "source": [
    "sentence = 'Директором ОАО \"Страна Чудес\" назначена Алиса'\n",
    "\n",
    "# Можно так же список слов\n",
    "# sentence = ['Директором', 'ОАО', '\"', 'Страна', 'Чудес', '\"', 'назначена', 'Алиса']\n",
    "\n",
    "tokens, tags = ner(['Директором ОАО \"Страна Чудес\" назначена Алиса'])\n",
    "for tok, tag in zip(tokens[0], tags[0]):\n",
    "    print(f'{tok}\\t{tag}')"
   ]
  },
  {
   "cell_type": "markdown",
   "metadata": {
    "colab_type": "text",
    "id": "7x5rfJGPgrV0"
   },
   "source": [
    "### Bi-LSTM-CRF\n",
    "Архитектура [Bi-LSTM-CRF](https://arxiv.org/pdf/1603.01360.pdf) проще BERT как по памяти, так и по сложности вычисления. Данная архитектура уступает в качетсве BERT, однако, работает заметно быстрее."
   ]
  },
  {
   "cell_type": "code",
   "execution_count": 5,
   "metadata": {
    "colab": {},
    "colab_type": "code",
    "id": "NoB3OqHigrV9"
   },
   "outputs": [
    {
     "name": "stderr",
     "output_type": "stream",
     "text": [
      "2019-08-17 20:42:10.930 INFO in 'deeppavlov.core.data.utils'['utils'] at line 63: Downloading from http://files.deeppavlov.ai/deeppavlov_data/ner_rus_v3_cpu_compatible.tar.gz to /home/com/.deeppavlov/ner_rus_v3_cpu_compatible.tar.gz\n",
      "100%|██████████| 5.88M/5.88M [00:00<00:00, 11.9MB/s]\n",
      "2019-08-17 20:42:11.465 INFO in 'deeppavlov.core.data.utils'['utils'] at line 201: Extracting /home/com/.deeppavlov/ner_rus_v3_cpu_compatible.tar.gz archive into /home/com/.deeppavlov/models\n",
      "2019-08-17 20:42:11.596 INFO in 'deeppavlov.core.data.utils'['utils'] at line 63: Downloading from http://files.deeppavlov.ai/embeddings/lenta_lower_100.bin to /home/com/.deeppavlov/downloads/embeddings/lenta_lower_100.bin\n",
      "100%|██████████| 1.11G/1.11G [01:36<00:00, 11.5MB/s]\n",
      "2019-08-17 20:43:48.856 INFO in 'deeppavlov.core.data.simple_vocab'['simple_vocab'] at line 103: [loading vocabulary from /home/com/.deeppavlov/models/ner_rus/word.dict]\n",
      "2019-08-17 20:43:48.918 INFO in 'deeppavlov.core.data.simple_vocab'['simple_vocab'] at line 103: [loading vocabulary from /home/com/.deeppavlov/models/ner_rus/tag.dict]\n",
      "2019-08-17 20:43:48.923 INFO in 'deeppavlov.core.data.simple_vocab'['simple_vocab'] at line 103: [loading vocabulary from /home/com/.deeppavlov/models/ner_rus/char.dict]\n",
      "2019-08-17 20:43:49.59 INFO in 'deeppavlov.models.embedders.fasttext_embedder'['fasttext_embedder'] at line 52: [loading fastText embeddings from `/home/com/.deeppavlov/downloads/embeddings/lenta_lower_100.bin`]\n",
      "2019-08-17 20:43:57.526 INFO in 'deeppavlov.core.layers.tf_layers'['tf_layers'] at line 756: \n",
      "Warning! tf.contrib.cudnn_rnn.CudnnCompatibleLSTMCell is used. It is okay for inference mode, but if you train your model with this cell it could NOT be used with tf.contrib.cudnn_rnn.CudnnLSTMCell later. \n"
     ]
    },
    {
     "name": "stdout",
     "output_type": "stream",
     "text": [
      "WARNING:tensorflow:From /home/com/Shared/DeepPavlov/deeppavlov/core/layers/tf_layers.py:861: calling reverse_sequence (from tensorflow.python.ops.array_ops) with seq_dim is deprecated and will be removed in a future version.\n",
      "Instructions for updating:\n",
      "seq_dim is deprecated, use seq_axis instead\n",
      "WARNING:tensorflow:From /home/com/miniconda2/envs/py36/lib/python3.6/site-packages/tensorflow/python/util/deprecation.py:454: calling reverse_sequence (from tensorflow.python.ops.array_ops) with batch_dim is deprecated and will be removed in a future version.\n",
      "Instructions for updating:\n",
      "batch_dim is deprecated, use batch_axis instead\n"
     ]
    },
    {
     "name": "stderr",
     "output_type": "stream",
     "text": [
      "2019-08-17 20:43:59.228 INFO in 'deeppavlov.core.layers.tf_layers'['tf_layers'] at line 756: \n",
      "Warning! tf.contrib.cudnn_rnn.CudnnCompatibleLSTMCell is used. It is okay for inference mode, but if you train your model with this cell it could NOT be used with tf.contrib.cudnn_rnn.CudnnLSTMCell later. \n",
      "/home/com/miniconda2/envs/py36/lib/python3.6/site-packages/tensorflow/python/ops/gradients_impl.py:108: UserWarning: Converting sparse IndexedSlices to a dense Tensor of unknown shape. This may consume a large amount of memory.\n",
      "  \"Converting sparse IndexedSlices to a dense Tensor of unknown shape. \"\n",
      "2019-08-17 20:44:01.370 INFO in 'deeppavlov.core.models.tf_model'['tf_model'] at line 50: [loading model from /home/com/.deeppavlov/models/ner_rus/model]\n"
     ]
    },
    {
     "name": "stdout",
     "output_type": "stream",
     "text": [
      "INFO:tensorflow:Restoring parameters from /home/com/.deeppavlov/models/ner_rus/model\n"
     ]
    }
   ],
   "source": [
    "ner = build_model(configs.ner.ner_rus, download=True)"
   ]
  },
  {
   "cell_type": "code",
   "execution_count": 6,
   "metadata": {
    "colab": {},
    "colab_type": "code",
    "id": "hgMuVlNGgrWI"
   },
   "outputs": [
    {
     "name": "stdout",
     "output_type": "stream",
     "text": [
      "Директором\tO\n",
      "ОАО\tB-ORG\n",
      "``\tO\n",
      "Страна\tB-LOC\n",
      "Чудес\tI-LOC\n",
      "''\tO\n",
      "назначена\tO\n",
      "Алиса\tB-PER\n"
     ]
    }
   ],
   "source": [
    "tokens, tags = ner(['Директором ОАО \"Страна Чудес\" назначена Алиса'])\n",
    "for tok, tag in zip(tokens[0], tags[0]):\n",
    "    print(f'{tok}\\t{tag}')"
   ]
  },
  {
   "cell_type": "markdown",
   "metadata": {
    "colab_type": "text",
    "id": "mK3EA_UegrWS"
   },
   "source": [
    "## DeepPavlov documentation: \n",
    "\n",
    "### http://docs.deeppavlov.ai/en/master/components/ner.html\n",
    "\n",
    "## GitHub Repository\n",
    "\n",
    "### https://github.com/deepmipt/DeepPavlov\n",
    "\n",
    "## DeepPavlov demo page\n",
    "\n",
    "### https://demo.ipavlov.ai\n",
    "\n",
    "## Forum\n",
    "\n",
    "### https://forum.ipavlov.ai\n"
   ]
  }
 ],
 "metadata": {
  "colab": {
   "name": "DeepPavlov NER Alice.ipynb",
   "provenance": [],
   "version": "0.3.2"
  },
  "kernelspec": {
   "display_name": "Python 3",
   "language": "python",
   "name": "python3"
  },
  "language_info": {
   "codemirror_mode": {
    "name": "ipython",
    "version": 3
   },
   "file_extension": ".py",
   "mimetype": "text/x-python",
   "name": "python",
   "nbconvert_exporter": "python",
   "pygments_lexer": "ipython3",
   "version": "3.6.8"
  }
 },
 "nbformat": 4,
 "nbformat_minor": 2
}
