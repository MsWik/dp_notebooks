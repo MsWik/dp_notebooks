{
 "cells": [
  {
   "cell_type": "markdown",
   "metadata": {
    "colab_type": "text",
    "id": "7o7d-wdpgrUo"
   },
   "source": [
    "## Распознавание Именованных Сущностей с помощью библиотеки DeepPavlov\n",
    "---\n",
    "\n",
    "<img align=\"center\" height=\"27%\" width=\"27%\" src=\"https://deeppavlov.ai/docs/_static/ipavlov_logo.png\"/>\n",
    "\n",
    "\n",
    "Системы Распознавания Именованных Сущностей (NER) занимаются извлечение из текста таких объектов как \n",
    "**имена**, **названия организаций**, **названия географических объектов**. Данная задача как правило является компонентом в более крупной системе. Например, в диалоговой системе NER может быть использован для выделения имени собеседника. В библиотеке [DeepPavlov](https://github.com/deepmipt/DeepPavlov) есть ряд моделей которые решают данную задачу. Мы рассмотрим две модели решающие задачу NER на русском языке: [BERT](https://arxiv.org/pdf/1810.04805.pdf), показывающий на данный момент наилучшее качество, и [Bi-LSTM-CRF](https://arxiv.org/pdf/1603.01360.pdf), который несколько уступает в качестве при этом превосходит в скорости.\n",
    "\n",
    "[NER Demo](https://demo.ipavlov.ai/#/ru/ner)"
   ]
  },
  {
   "cell_type": "markdown",
   "metadata": {
    "colab_type": "text",
    "id": "Bh3IQdJSgrUx"
   },
   "source": [
    "## Постановка задачи\n",
    "\n",
    "Задача НЕР может быть поставлена следующим образом: для заданной последовательность слов предсказать последовательность меток. Каждому входному слову сопоставляется метка из заданного множества меток. Пример: \n",
    " \n",
    "    Саша живет в Нижнем Новгороде\n",
    "    PER    O   O   LOC     LOC\n",
    "\n",
    "здесь **PER** - персона, **LOC** - локация. Однако, представленная разметка не позволяет разделять подряд идущие сущности. Для разделения таких сущностей используют префиксы B и I перед каждой меткой кроме O. Префикс B обозначает начало сущности, а I - продолжение. Тогда для примера выше будет следующая разметка:\n",
    "\n",
    "    Саша живет в Нижнем Новгороде\n",
    "    PER    O   O  B-LOC    I-LOC\n",
    "\n",
    "Разметка с префиксами B и O - наиболее распространённый способ разметки данных. Данный тип разметки часто называют **BIO** или **IOB**."
   ]
  },
  {
   "cell_type": "markdown",
   "metadata": {
    "colab_type": "text",
    "id": "t6sLDEkYgrU0"
   },
   "source": [
    "## Dataset\n",
    "\n",
    "Рассматриваемые в данном notebook-е модели были обучены на датасете [1]. Данный датасет содержит 1000 новостей в которых размечены персоны (PER), локации (LOC) и организации (ORG). В силу того, что обучающая выборка содержит только новостные данные смена типов распознаваемых текстов может существенно отразиться на качестве работы системы. Например, при использовании модели обученной на новостях переход к распознавания диалогов службы поддрежки может существенно снизить качество работы системы. \n",
    "\n",
    "1. Mozharova V., Loukachevitch N., Two-stage approach in Russian named entity recognition // International FRUCT Conference on Intelligence, Social Media and Web, ISMW FRUCT 2016. Saint-Petersburg; Russian Federation, DOI 10.1109/FRUCT.2016.7584769 "
   ]
  },
  {
   "cell_type": "markdown",
   "metadata": {
    "colab_type": "text",
    "id": "GF4cJjNwgrU4"
   },
   "source": [
    "## Установка библиотеки"
   ]
  },
  {
   "cell_type": "code",
   "execution_count": null,
   "metadata": {
    "colab": {},
    "colab_type": "code",
    "id": "kXn5v0kzgrU7"
   },
   "outputs": [],
   "source": [
    "!pip install -q deeppavlov"
   ]
  },
  {
   "cell_type": "markdown",
   "metadata": {
    "colab_type": "text",
    "id": "lgiy3YIdgrVL"
   },
   "source": [
    "## Установка зависимостей"
   ]
  },
  {
   "cell_type": "code",
   "execution_count": null,
   "metadata": {
    "colab": {},
    "colab_type": "code",
    "id": "EvqfR_9wgrVP",
    "scrolled": true
   },
   "outputs": [],
   "source": [
    "!python -m deeppavlov install ner_rus\n",
    "!python -m deeppavlov install ner_rus_bert"
   ]
  },
  {
   "cell_type": "markdown",
   "metadata": {
    "colab_type": "text",
    "id": "TCT7n3N2grVb"
   },
   "source": [
    "## Использование моделей \n",
    "\n",
    "### BERT \n",
    "\n",
    "BERT - сеть архитектуры Transformer предобученная на задаче Masked Language Modelling (MLM). Модель осуществляющая НЕР использует [RuBERT](https://arxiv.org/abs/1905.07213) предобученный на русском языке. "
   ]
  },
  {
   "cell_type": "code",
   "execution_count": null,
   "metadata": {
    "colab": {},
    "colab_type": "code",
    "id": "FG87RYHUgrVf"
   },
   "outputs": [],
   "source": [
    "from deeppavlov import configs, build_model\n",
    "\n",
    "ner = build_model(configs.ner.ner_rus_bert, download=True)"
   ]
  },
  {
   "cell_type": "code",
   "execution_count": null,
   "metadata": {
    "colab": {},
    "colab_type": "code",
    "id": "9v3Fb_J7grVp"
   },
   "outputs": [],
   "source": [
    "tokens, tags = ner(['Саша живет в Нижнем Новгороде'])\n",
    "for tok, tag in zip(tokens[0], tags[0]):\n",
    "    print(f'{tok}\\t{tag}')"
   ]
  },
  {
   "cell_type": "markdown",
   "metadata": {
    "colab_type": "text",
    "id": "7x5rfJGPgrV0"
   },
   "source": [
    "### Bi-LSTM-CRF\n",
    "Архитектура [Bi-LSTM-CRF](https://arxiv.org/pdf/1603.01360.pdf) проще BERT как по памяти, так и по сложности вычисления. Данная архитектура уступает в качетсве BERT, однако, работает заметно быстрее."
   ]
  },
  {
   "cell_type": "code",
   "execution_count": null,
   "metadata": {
    "colab": {},
    "colab_type": "code",
    "id": "NoB3OqHigrV9"
   },
   "outputs": [],
   "source": [
    "ner = build_model(configs.ner.ner_rus, download=True)"
   ]
  },
  {
   "cell_type": "code",
   "execution_count": null,
   "metadata": {
    "colab": {},
    "colab_type": "code",
    "id": "hgMuVlNGgrWI"
   },
   "outputs": [],
   "source": [
    "tokens, tags = ner(['Саша живет в Нижнем Новгороде'])\n",
    "for tok, tag in zip(tokens[0], tags[0]):\n",
    "    print(f'{tok}\\t{tag}')"
   ]
  },
  {
   "cell_type": "markdown",
   "metadata": {
    "colab_type": "text",
    "id": "mK3EA_UegrWS"
   },
   "source": [
    "## DeepPavlov documentation: \n",
    "\n",
    "### http://docs.deeppavlov.ai/en/master/components/ner.html\n",
    "\n",
    "## GitHub Repository\n",
    "\n",
    "### https://github.com/deepmipt/DeepPavlov\n",
    "\n",
    "## DeepPavlov demo page\n",
    "\n",
    "### https://demo.ipavlov.ai\n",
    "\n",
    "## Forum\n",
    "\n",
    "### https://forum.ipavlov.ai\n"
   ]
  }
 ],
 "metadata": {
  "colab": {
   "name": "DeepPavlov NER Alice.ipynb",
   "provenance": [],
   "version": "0.3.2"
  },
  "kernelspec": {
   "display_name": "Python 3",
   "language": "python",
   "name": "python3"
  },
  "language_info": {
   "codemirror_mode": {
    "name": "ipython",
    "version": 3
   },
   "file_extension": ".py",
   "mimetype": "text/x-python",
   "name": "python",
   "nbconvert_exporter": "python",
   "pygments_lexer": "ipython3",
   "version": "3.6.8"
  }
 },
 "nbformat": 4,
 "nbformat_minor": 2
}
